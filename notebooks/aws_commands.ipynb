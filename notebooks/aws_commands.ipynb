{
 "cells": [
  {
   "cell_type": "markdown",
   "metadata": {},
   "source": [
    "### Useful commands to interact with the AWS CLI, archives and tensorboard"
   ]
  },
  {
   "cell_type": "code",
   "execution_count": null,
   "metadata": {
    "vscode": {
     "languageId": "shellscript"
    }
   },
   "outputs": [],
   "source": [
    "# configure aws cli\n",
    "aws configure\n",
    "\n",
    "# create s3 bucket\n",
    "aws s3 mb s3://your-bucket-name\n",
    "\n",
    "# list s3 buckets\n",
    "aws s3 ls\n",
    "\n",
    "# list bucket contents\n",
    "aws s3 ls s3://your-bucket-name\n",
    "\n",
    "# copy file to s3\n",
    "aws s3 cp data/train.csv s3://your-bucket-name/data/train.csv\n",
    "\n",
    "# copy full directory to s3\n",
    "aws s3 cp data/ s3://your-bucket-name/data/ --recursive\n",
    "\n",
    "# untar a file\n",
    "tar -zxf model.tar.gz target_folder\n",
    "\n",
    "# start tensorboard\n",
    "tensorboard --logdir=./logs\n",
    "\n",
    "\n"
   ]
  }
 ],
 "metadata": {
  "language_info": {
   "name": "python"
  }
 },
 "nbformat": 4,
 "nbformat_minor": 2
}
